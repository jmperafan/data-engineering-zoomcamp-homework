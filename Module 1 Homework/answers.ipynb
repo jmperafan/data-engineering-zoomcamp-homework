{
 "cells": [
  {
   "cell_type": "markdown",
   "metadata": {},
   "source": [
    "# Docker & SQL\n",
    "In this homework we'll prepare the environment and practice with Docker and SQL"
   ]
  },
  {
   "cell_type": "markdown",
   "metadata": {},
   "source": [
    "## Question 1. Knowing docker tags\n",
    "\n",
    "Run the command to get information on Docker \n",
    "\n",
    "```docker --help```\n",
    "\n",
    "Now run the command to get help on the \"docker build\" command:\n",
    "\n",
    "```docker build --help```\n",
    "\n",
    "Do the same for \"docker run\".\n",
    "\n",
    "Which tag has the following text? - *Automatically remove the container when it exits* \n",
    "\n",
    "- `--delete`\n",
    "- `--rc`\n",
    "- `--rmc`\n",
    "- `--rm`"
   ]
  },
  {
   "cell_type": "markdown",
   "metadata": {},
   "source": [
    "```bash\n",
    "docker run --help | grep \"Automatically remove the container when it exits\"\n",
    "```\n",
    "\n",
    "```bash\n",
    "--rm\n",
    "```"
   ]
  },
  {
   "cell_type": "markdown",
   "metadata": {},
   "source": [
    "## Question 2. Understanding docker first run \n",
    "\n",
    "Run docker with the python:3.9 image in an interactive mode and the entrypoint of bash.\n",
    "Now check the python modules that are installed ( use ```pip list``` ). \n",
    "\n",
    "What is version of the package *wheel* ?\n",
    "\n",
    "- 0.42.0\n",
    "- 1.0.0\n",
    "- 23.0.1\n",
    "- 58.1.0"
   ]
  },
  {
   "cell_type": "markdown",
   "metadata": {},
   "source": [
    "\n",
    "```bash\n",
    "docker run -i python:3.9 bash\n",
    "pip list\n",
    "```\n",
    "\n",
    "```bash\n",
    "Package    Version\n",
    "---------- -------\n",
    "wheel      0.42.0\n",
    "```"
   ]
  },
  {
   "cell_type": "markdown",
   "metadata": {},
   "source": [
    "# Prepare Postgres\n",
    "\n",
    "Run Postgres and load data as shown in the videos\n",
    "We'll use the green taxi trips from September 2019:\n",
    "\n",
    "```wget https://github.com/DataTalksClub/nyc-tlc-data/releases/download/green/green_tripdata_2019-09.csv.gz```\n",
    "\n",
    "You will also need the dataset with zones:\n",
    "\n",
    "```wget https://s3.amazonaws.com/nyc-tlc/misc/taxi+_zone_lookup.csv```\n",
    "\n",
    "Download this data and put it into Postgres (with jupyter notebooks or with a pipeline)"
   ]
  },
  {
   "cell_type": "code",
   "execution_count": 49,
   "metadata": {},
   "outputs": [],
   "source": [
    "import duckdb\n",
    "\n",
    "# Load csv files\n",
    "taxi_zone_lookup = duckdb.read_csv(\"data/taxi_zone_lookup.csv\")\n",
    "green_tripdata = duckdb.read_csv(\"data/green_tripdata_2019-09.csv.gz\")"
   ]
  },
  {
   "cell_type": "markdown",
   "metadata": {},
   "source": [
    "## Question 3. Count records \n",
    "\n",
    "How many taxi trips were totally made on September 18th 2019?\n",
    "\n",
    "Tip: started and finished on 2019-09-18. \n",
    "\n",
    "Remember that `lpep_pickup_datetime` and `lpep_dropoff_datetime` columns are in the format timestamp (date and hour+min+sec) and not in date.\n",
    "\n",
    "- 15767\n",
    "- 15612\n",
    "- 15859\n",
    "- 89009"
   ]
  },
  {
   "cell_type": "code",
   "execution_count": 50,
   "metadata": {},
   "outputs": [
    {
     "data": {
      "text/plain": [
       "┌────────────┐\n",
       "│ taxi_trips │\n",
       "│   int64    │\n",
       "├────────────┤\n",
       "│      15612 │\n",
       "└────────────┘"
      ]
     },
     "execution_count": 50,
     "metadata": {},
     "output_type": "execute_result"
    }
   ],
   "source": [
    "duckdb.sql(\n",
    "    \"\"\"\n",
    "    select \n",
    "        count(*) as taxi_trips\n",
    "    from green_tripdata\n",
    "    where datetrunc('day', lpep_pickup_datetime) = '2019-09-18'\n",
    "    and datetrunc('day', lpep_dropoff_datetime) = '2019-09-18'\n",
    "    limit 100\n",
    "    \"\"\"\n",
    ")"
   ]
  },
  {
   "cell_type": "markdown",
   "metadata": {},
   "source": [
    "## Question 4. Largest trip for each day\n",
    "\n",
    "Which was the pick up day with the largest trip distance\n",
    "Use the pick up time for your calculations.\n",
    "\n",
    "- 2019-09-18\n",
    "- 2019-09-16\n",
    "- 2019-09-26\n",
    "- 2019-09-21"
   ]
  },
  {
   "cell_type": "code",
   "execution_count": 51,
   "metadata": {},
   "outputs": [
    {
     "data": {
      "text/plain": [
       "┌────────────┬───────────────────────┐\n",
       "│    date    │ longest_trip_distance │\n",
       "│    date    │        double         │\n",
       "├────────────┼───────────────────────┤\n",
       "│ 2019-09-26 │                341.64 │\n",
       "└────────────┴───────────────────────┘"
      ]
     },
     "execution_count": 51,
     "metadata": {},
     "output_type": "execute_result"
    }
   ],
   "source": [
    "duckdb.sql(\n",
    "    \"\"\"\n",
    "    with \n",
    "    \n",
    "    total_trip_distance as (\n",
    "        select \n",
    "            datetrunc('day', lpep_pickup_datetime) as date,\n",
    "            sum(trip_distance) as total_trip_distance, \n",
    "        from green_tripdata\n",
    "        group by datetrunc('day', lpep_pickup_datetime)\n",
    "        order by total_trip_distance desc\n",
    "        limit 1\n",
    "    ),\n",
    "\n",
    "    longest_trip_distance as (\n",
    "        select \n",
    "            datetrunc('day', lpep_pickup_datetime) as date,\n",
    "            max(trip_distance) as longest_trip_distance, \n",
    "        from green_tripdata\n",
    "        group by datetrunc('day', lpep_pickup_datetime)\n",
    "        order by longest_trip_distance desc\n",
    "        limit 1\n",
    "    )\n",
    "\n",
    "    select * from longest_trip_distance\n",
    "    \"\"\"\n",
    ")"
   ]
  },
  {
   "cell_type": "markdown",
   "metadata": {},
   "source": [
    "## Question 5. The number of passengers\n",
    "\n",
    "Consider lpep_pickup_datetime in '2019-09-18' and ignoring Borough has Unknown\n",
    "\n",
    "Which were the 3 pick up Boroughs that had a sum of total_amount superior to 50000?\n",
    " \n",
    "- \"Brooklyn\" \"Manhattan\" \"Queens\"\n",
    "- \"Bronx\" \"Brooklyn\" \"Manhattan\"\n",
    "- \"Bronx\" \"Manhattan\" \"Queens\" \n",
    "- \"Brooklyn\" \"Queens\" \"Staten Island\""
   ]
  },
  {
   "cell_type": "code",
   "execution_count": 63,
   "metadata": {},
   "outputs": [
    {
     "data": {
      "text/plain": [
       "┌───────────┬───────────────────┐\n",
       "│  Borough  │   total_amount    │\n",
       "│  varchar  │      double       │\n",
       "├───────────┼───────────────────┤\n",
       "│ Manhattan │ 92271.29999999967 │\n",
       "│ Brooklyn  │ 96333.24000000008 │\n",
       "│ Queens    │ 78671.71000000014 │\n",
       "└───────────┴───────────────────┘"
      ]
     },
     "execution_count": 63,
     "metadata": {},
     "output_type": "execute_result"
    }
   ],
   "source": [
    "duckdb.sql(\n",
    "    \"\"\"\n",
    "    with green_tripdata_agg as (\n",
    "        select\n",
    "            PULocationID, \n",
    "            sum(total_amount) as total_amount\n",
    "        from green_tripdata\n",
    "        where datetrunc('day', lpep_pickup_datetime) = '2019-09-18'\n",
    "        group by PULocationID\n",
    "\n",
    "    ),\n",
    "\n",
    "    taxi_zone_lookup_filtered as (\n",
    "        select * \n",
    "        from taxi_zone_lookup\n",
    "        where Borough != 'Unknown'\n",
    "    ),\n",
    "\n",
    "    joined as (\n",
    "        select *\n",
    "        from green_tripdata_agg\n",
    "        inner join taxi_zone_lookup_filtered\n",
    "        on (PULocationID = LocationID)\n",
    "    ),\n",
    "\n",
    "    answer as (\n",
    "        select \n",
    "            Borough,\n",
    "            sum(total_amount) as total_amount\n",
    "        from joined\n",
    "        group by Borough\n",
    "        having sum(total_amount) > 50000\n",
    "    )\n",
    "\n",
    "    select * from answer\n",
    "    \n",
    "    \"\"\"\n",
    ")"
   ]
  },
  {
   "cell_type": "markdown",
   "metadata": {},
   "source": [
    "## Question 6. Largest tip\n",
    "\n",
    "For the passengers picked up in September 2019 in the zone name Astoria which was the drop off zone that had the largest tip?\n",
    "We want the name of the zone, not the id.\n",
    "\n",
    "Note: it's not a typo, it's `tip` , not `trip`\n",
    "\n",
    "- Central Park\n",
    "- Jamaica\n",
    "- JFK Airport\n",
    "- Long Island City/Queens Plaza"
   ]
  },
  {
   "cell_type": "code",
   "execution_count": 89,
   "metadata": {},
   "outputs": [
    {
     "data": {
      "text/plain": [
       "┌─────────────┬─────────────┐\n",
       "│    Zone     │ largest_tip │\n",
       "│   varchar   │   double    │\n",
       "├─────────────┼─────────────┤\n",
       "│ JFK Airport │       62.31 │\n",
       "└─────────────┴─────────────┘"
      ]
     },
     "execution_count": 89,
     "metadata": {},
     "output_type": "execute_result"
    }
   ],
   "source": [
    "duckdb.sql(\n",
    "    \"\"\"\n",
    "    with green_tripdata_reduced as (\n",
    "        select\n",
    "            PULocationID,\n",
    "            DOLocationID,\n",
    "            tip_amount\n",
    "        from green_tripdata\n",
    "        where strftime(lpep_pickup_datetime, '%Y-%m') = '2019-09'\n",
    "    ),\n",
    "\n",
    "    pickup_astoria as (\n",
    "        select\n",
    "            DOLocationID,\n",
    "            tip_amount\n",
    "        from green_tripdata_reduced\n",
    "        join taxi_zone_lookup\n",
    "        on (PULocationID = LocationID)\n",
    "        where Zone = 'Astoria'\n",
    "    ),\n",
    "\n",
    "    answer as (\n",
    "        select \n",
    "            Zone,\n",
    "            max(tip_amount) as largest_tip\n",
    "        from pickup_astoria\n",
    "        join taxi_zone_lookup\n",
    "        on (DOLocationID = LocationID)\n",
    "        group by Zone\n",
    "        order by largest_tip desc\n",
    "        limit 1\n",
    "    )\n",
    "\n",
    "    select * from answer\n",
    "    \"\"\"\n",
    ")"
   ]
  }
 ],
 "metadata": {
  "kernelspec": {
   "display_name": "Python 3 (ipykernel)",
   "language": "python",
   "name": "python3"
  },
  "language_info": {
   "codemirror_mode": {
    "name": "ipython",
    "version": 3
   },
   "file_extension": ".py",
   "mimetype": "text/x-python",
   "name": "python",
   "nbconvert_exporter": "python",
   "pygments_lexer": "ipython3",
   "version": "3.10.13"
  }
 },
 "nbformat": 4,
 "nbformat_minor": 2
}
